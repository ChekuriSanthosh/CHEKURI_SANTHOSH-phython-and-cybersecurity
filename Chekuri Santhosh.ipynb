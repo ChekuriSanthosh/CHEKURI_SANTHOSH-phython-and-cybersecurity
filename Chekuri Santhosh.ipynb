{
  "nbformat": 4,
  "nbformat_minor": 0,
  "metadata": {
    "colab": {
      "name": "Untitled1.ipynb",
      "provenance": [],
      "collapsed_sections": []
    },
    "kernelspec": {
      "name": "python3",
      "display_name": "Python 3"
    },
    "language_info": {
      "name": "python"
    }
  },
  "cells": [
    {
      "cell_type": "code",
      "metadata": {
        "colab": {
          "base_uri": "https://localhost:8080/"
        },
        "id": "IlnDN8diMCkJ",
        "outputId": "0bc2c2c9-6797-408a-87a3-74431743f88b"
      },
      "source": [
        "import requests\n",
        "from datetime import datetime\n",
        "api_key='86138c1c4b8bf6d295ad639bbfb31f3d'\n",
        "location=input(\"Enter the city name: \")\n",
        "complete_api_link=\"https://api.openweathermap.org/data/2.5/weather?q=\"+location+\"&appid=\"+api_key\n",
        "api_link=requests.get(complete_api_link)\n",
        "api_data=api_link.json()\n",
        "\n",
        "temp_city=((api_data['main']['temp'])-273.15)\n",
        "weather_desc=api_data['weather'][0]['description']\n",
        "hmdt=api_data['main']['humidity']\n",
        "wind_spd=api_data['wind']['speed']\n",
        "date_time=datetime.now().strftime(\"%d %b %Y | %I:%M:%S %p\")\n",
        "\n",
        "print(\"--------------------------------------------------------------------------------\")\n",
        "print(\"Weather stats for = {}   ||   {}\".format(location.upper(),date_time))\n",
        "print(\"--------------------------------------------------------------------------------\")\n",
        "\n",
        "print(\"Current temperature is: {:.2f} deg C\".format(temp_city))\n",
        "print(\"Current weather desc  :\",weather_desc)\n",
        "print(\"Current Humidity      :\",hmdt,'%')\n",
        "print(\"Current wind speed    :\",wind_spd,'kmph')\n",
        "\n",
        "file1 = open(\"myfile.txt\",\"w\")\n",
        "file1.write(\"temperature is {}, Current weather is {}, Current humidity is {}, Current wind speed is {}\".format(temp_city,weather_desc,hmdt,wind_spd))\n",
        "file1.close()\n",
        "\n",
        "\n",
        "\n"
      ],
      "execution_count": 12,
      "outputs": [
        {
          "output_type": "stream",
          "text": [
            "Enter the city name: ranchi\n",
            "--------------------------------------------------------------------------------\n",
            "Weather stats for = RANCHI   ||   22 Jun 2021 | 07:12:10 AM\n",
            "--------------------------------------------------------------------------------\n",
            "Current temperature is: 31.06 deg C\n",
            "Current weather desc  : haze\n",
            "Current Humidity      : 66 %\n",
            "Current wind speed    : 1.54 kmph\n"
          ],
          "name": "stdout"
        }
      ]
    },
    {
      "cell_type": "code",
      "metadata": {
        "colab": {
          "base_uri": "https://localhost:8080/"
        },
        "id": "mJ-Ph1qNf67V",
        "outputId": "9ef04f6f-04a3-401e-81cf-2b0002a4058f"
      },
      "source": [
        "{\n",
        "  \"coord\": {\n",
        "    \"lon\": -122.08,\n",
        "    \"lat\": 37.39\n",
        "  },\n",
        "  \"weather\": [\n",
        "    {\n",
        "      \"id\": 800,\n",
        "      \"main\": \"Clear\",\n",
        "      \"description\": \"clear sky\",\n",
        "      \"icon\": \"01d\"\n",
        "    }\n",
        "  ],\n",
        "  \"base\": \"stations\",\n",
        "  \"main\": {\n",
        "    \"temp\": 282.55,\n",
        "    \"feels_like\": 281.86,\n",
        "    \"temp_min\": 280.37,\n",
        "    \"temp_max\": 284.26,\n",
        "    \"pressure\": 1023,\n",
        "    \"humidity\": 100\n",
        "  },\n",
        "  \"visibility\": 16093,\n",
        "  \"wind\": {\n",
        "    \"speed\": 1.5,\n",
        "    \"deg\": 350\n",
        "  },\n",
        "  \"clouds\": {\n",
        "    \"all\": 1\n",
        "  },\n",
        "  \"dt\": 1560350645,\n",
        "  \"sys\": {\n",
        "    \"type\": 1,\n",
        "    \"id\": 5122,\n",
        "    \"message\": 0.0139,\n",
        "    \"country\": \"US\",\n",
        "    \"sunrise\": 1560343627,\n",
        "    \"sunset\": 1560396563\n",
        "  },\n",
        "  \"timezone\": -25200,\n",
        "  \"id\": 420006353,\n",
        "  \"name\": \"Mountain View\",\n",
        "  \"cod\": 200\n",
        "  }                         \n"
      ],
      "execution_count": 2,
      "outputs": [
        {
          "output_type": "execute_result",
          "data": {
            "text/plain": [
              "{'base': 'stations',\n",
              " 'clouds': {'all': 1},\n",
              " 'cod': 200,\n",
              " 'coord': {'lat': 37.39, 'lon': -122.08},\n",
              " 'dt': 1560350645,\n",
              " 'id': 420006353,\n",
              " 'main': {'feels_like': 281.86,\n",
              "  'humidity': 100,\n",
              "  'pressure': 1023,\n",
              "  'temp': 282.55,\n",
              "  'temp_max': 284.26,\n",
              "  'temp_min': 280.37},\n",
              " 'name': 'Mountain View',\n",
              " 'sys': {'country': 'US',\n",
              "  'id': 5122,\n",
              "  'message': 0.0139,\n",
              "  'sunrise': 1560343627,\n",
              "  'sunset': 1560396563,\n",
              "  'type': 1},\n",
              " 'timezone': -25200,\n",
              " 'visibility': 16093,\n",
              " 'weather': [{'description': 'clear sky',\n",
              "   'icon': '01d',\n",
              "   'id': 800,\n",
              "   'main': 'Clear'}],\n",
              " 'wind': {'deg': 350, 'speed': 1.5}}"
            ]
          },
          "metadata": {
            "tags": []
          },
          "execution_count": 2
        }
      ]
    }
  ]
}